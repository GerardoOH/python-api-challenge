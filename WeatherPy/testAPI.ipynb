{
 "cells": [
  {
   "cell_type": "code",
   "execution_count": 1,
   "metadata": {},
   "outputs": [
    {
     "name": "stdout",
     "output_type": "stream",
     "text": [
      "200\n",
      "{'coord': {'lon': -0.1257, 'lat': 51.5085}, 'weather': [{'id': 803, 'main': 'Clouds', 'description': 'broken clouds', 'icon': '04n'}], 'base': 'stations', 'main': {'temp': 13.73, 'feels_like': 13.56, 'temp_min': 12.77, 'temp_max': 14.44, 'pressure': 993, 'humidity': 92, 'sea_level': 993, 'grnd_level': 989}, 'visibility': 10000, 'wind': {'speed': 2.68, 'deg': 211, 'gust': 4.02}, 'clouds': {'all': 75}, 'dt': 1728352598, 'sys': {'type': 2, 'id': 2075535, 'country': 'GB', 'sunrise': 1728367981, 'sunset': 1728408156}, 'timezone': 3600, 'id': 2643743, 'name': 'London', 'cod': 200}\n"
     ]
    }
   ],
   "source": [
    "import requests\n",
    "\n",
    "api_key = \"19d7a4c253907c7bd1606f5d22726862\"\n",
    "url = f\"http://api.openweathermap.org/data/2.5/weather?q=London&appid={api_key}&units=metric\"\n",
    "response = requests.get(url)\n",
    "print(response.status_code)\n",
    "print(response.json())"
   ]
  },
  {
   "cell_type": "code",
   "execution_count": null,
   "metadata": {},
   "outputs": [],
   "source": []
  }
 ],
 "metadata": {
  "kernelspec": {
   "display_name": "base",
   "language": "python",
   "name": "python3"
  },
  "language_info": {
   "codemirror_mode": {
    "name": "ipython",
    "version": 3
   },
   "file_extension": ".py",
   "mimetype": "text/x-python",
   "name": "python",
   "nbconvert_exporter": "python",
   "pygments_lexer": "ipython3",
   "version": "3.10.9"
  }
 },
 "nbformat": 4,
 "nbformat_minor": 2
}
